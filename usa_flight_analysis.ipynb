{
 "cells": [
  {
   "cell_type": "markdown",
   "metadata": {},
   "source": [
    "# Vluchtenanalyse\n",
    "In dit Jupyter Notebook ga je een dataset van vluchten opschonen, en ontbrekende gegevens aanvullen in een dataset van luchthavens. Later in het level ga je deze datasets linken en plotten op een kaart."
   ]
  },
  {
   "cell_type": "code",
   "execution_count": 39,
   "metadata": {},
   "outputs": [],
   "source": [
    "from pandas import *"
   ]
  },
  {
   "cell_type": "markdown",
   "metadata": {},
   "source": [
    "## 1. Data inlezen\n",
    "Lees de aangeleverde data in met pandas. Krijg een indruk van de data door de head te bekijken en het aantal datapunten te printen."
   ]
  },
  {
   "cell_type": "markdown",
   "metadata": {},
   "source": [
    "We beginnen met het bestand `flights_usa.csv`."
   ]
  },
  {
   "cell_type": "code",
   "execution_count": 40,
   "metadata": {},
   "outputs": [],
   "source": [
    "\n",
    "data = read_csv(\"flights_usa.csv\")\n",
    "flights = pd.DataFrame(data)\n",
    "\n",
    "data = read_csv(\"airports_usa.csv\")\n",
    "airports = pd.DataFrame(data)\n"
   ]
  },
  {
   "cell_type": "markdown",
   "metadata": {},
   "source": [
    "## 2. Data cleaning\n",
    "\n",
    "De datasets bevatten momenteel gebrekkige data waar je niet mee kunt werken. Dus ga je ontbrekende gegevens aanvullen, en incomplete data verwijderen."
   ]
  },
  {
   "cell_type": "code",
   "execution_count": 41,
   "metadata": {
    "scrolled": true
   },
   "outputs": [
    {
     "name": "stdout",
     "output_type": "stream",
     "text": [
      "112076\n",
      "4.2141047146579105\n",
      "107353\n",
      "105621\n",
      "    IATA_CODE                              AIRPORT           CITY STATE  \\\n",
      "276       SFO  San Francisco International Airport  San Francisco    CA   \n",
      "\n",
      "    COUNTRY  LATITUDE  LONGITUDE  \n",
      "276     USA       NaN        NaN  \n",
      "Empty DataFrame\n",
      "Columns: [IATA_CODE, AIRPORT, CITY, STATE, COUNTRY, LATITUDE, LONGITUDE]\n",
      "Index: []\n"
     ]
    }
   ],
   "source": [
    "print(len(flights))\n",
    "percent_missing = flights['DESTINATION_AIRPORT'].isnull().sum() * 100 / len(flights['DESTINATION_AIRPORT'])\n",
    "print(percent_missing)\n",
    "flights = flights[pd.notnull(flights['DESTINATION_AIRPORT'])]\n",
    "print(len(flights))\n",
    "indexNames = flights[flights['CANCELLED'] != 0 ].index\n",
    "flights.drop(indexNames , inplace=True)\n",
    "print(len(flights))\n",
    "print(airports[(airports['LATITUDE'].isnull()) | (airports['LONGITUDE'].isnull())])\n",
    "airports.at[276, 'LATITUDE'] = 37.615223\n",
    "airports.at[276, 'LONGITUDE'] = -122.389977\n",
    "print(airports[(airports['LATITUDE'].isnull()) | (airports['LONGITUDE'].isnull())])"
   ]
  },
  {
   "cell_type": "markdown",
   "metadata": {},
   "source": [
    "## 3. Data linken\n",
    "\n",
    "Exercise 3: combineer de twee datasets."
   ]
  },
  {
   "cell_type": "code",
   "execution_count": 50,
   "metadata": {},
   "outputs": [
    {
     "data": {
      "text/html": [
       "<div>\n",
       "<style scoped>\n",
       "    .dataframe tbody tr th:only-of-type {\n",
       "        vertical-align: middle;\n",
       "    }\n",
       "\n",
       "    .dataframe tbody tr th {\n",
       "        vertical-align: top;\n",
       "    }\n",
       "\n",
       "    .dataframe thead th {\n",
       "        text-align: right;\n",
       "    }\n",
       "</style>\n",
       "<table border=\"1\" class=\"dataframe\">\n",
       "  <thead>\n",
       "    <tr style=\"text-align: right;\">\n",
       "      <th></th>\n",
       "      <th>IATA_CODE</th>\n",
       "      <th>AIRPORT</th>\n",
       "      <th>CITY</th>\n",
       "      <th>STATE</th>\n",
       "      <th>COUNTRY</th>\n",
       "      <th>LATITUDE</th>\n",
       "      <th>LONGITUDE</th>\n",
       "      <th>ARRIVING FLIGHTS_x</th>\n",
       "      <th>ARRIVING FLIGHTS_y</th>\n",
       "    </tr>\n",
       "  </thead>\n",
       "  <tbody>\n",
       "    <tr>\n",
       "      <th>0</th>\n",
       "      <td>ATL</td>\n",
       "      <td>Hartsfield-Jackson Atlanta International Airport</td>\n",
       "      <td>Atlanta</td>\n",
       "      <td>GA</td>\n",
       "      <td>USA</td>\n",
       "      <td>33.64044</td>\n",
       "      <td>-84.42694</td>\n",
       "      <td>18194</td>\n",
       "      <td>18194</td>\n",
       "    </tr>\n",
       "    <tr>\n",
       "      <th>1</th>\n",
       "      <td>AUS</td>\n",
       "      <td>Austin-Bergstrom International Airport</td>\n",
       "      <td>Austin</td>\n",
       "      <td>TX</td>\n",
       "      <td>USA</td>\n",
       "      <td>30.19453</td>\n",
       "      <td>-97.66987</td>\n",
       "      <td>2254</td>\n",
       "      <td>2254</td>\n",
       "    </tr>\n",
       "    <tr>\n",
       "      <th>2</th>\n",
       "      <td>BET</td>\n",
       "      <td>Bethel Airport</td>\n",
       "      <td>Bethel</td>\n",
       "      <td>AK</td>\n",
       "      <td>USA</td>\n",
       "      <td>60.77978</td>\n",
       "      <td>-161.83800</td>\n",
       "      <td>46</td>\n",
       "      <td>46</td>\n",
       "    </tr>\n",
       "    <tr>\n",
       "      <th>3</th>\n",
       "      <td>BOI</td>\n",
       "      <td>Boise Airport (Boise Air Terminal)</td>\n",
       "      <td>Boise</td>\n",
       "      <td>ID</td>\n",
       "      <td>USA</td>\n",
       "      <td>43.56444</td>\n",
       "      <td>-116.22278</td>\n",
       "      <td>599</td>\n",
       "      <td>599</td>\n",
       "    </tr>\n",
       "    <tr>\n",
       "      <th>4</th>\n",
       "      <td>BOS</td>\n",
       "      <td>Gen. Edward Lawrence Logan International Airport</td>\n",
       "      <td>Boston</td>\n",
       "      <td>MA</td>\n",
       "      <td>USA</td>\n",
       "      <td>42.36435</td>\n",
       "      <td>-71.00518</td>\n",
       "      <td>5465</td>\n",
       "      <td>5465</td>\n",
       "    </tr>\n",
       "  </tbody>\n",
       "</table>\n",
       "</div>"
      ],
      "text/plain": [
       "  IATA_CODE                                           AIRPORT     CITY STATE  \\\n",
       "0       ATL  Hartsfield-Jackson Atlanta International Airport  Atlanta    GA   \n",
       "1       AUS            Austin-Bergstrom International Airport   Austin    TX   \n",
       "2       BET                                    Bethel Airport   Bethel    AK   \n",
       "3       BOI                Boise Airport (Boise Air Terminal)    Boise    ID   \n",
       "4       BOS  Gen. Edward Lawrence Logan International Airport   Boston    MA   \n",
       "\n",
       "  COUNTRY  LATITUDE  LONGITUDE  ARRIVING FLIGHTS_x  ARRIVING FLIGHTS_y  \n",
       "0     USA  33.64044  -84.42694               18194               18194  \n",
       "1     USA  30.19453  -97.66987                2254                2254  \n",
       "2     USA  60.77978 -161.83800                  46                  46  \n",
       "3     USA  43.56444 -116.22278                 599                 599  \n",
       "4     USA  42.36435  -71.00518                5465                5465  "
      ]
     },
     "execution_count": 50,
     "metadata": {},
     "output_type": "execute_result"
    }
   ],
   "source": [
    "flight_count = pd.DataFrame(flights['DESTINATION_AIRPORT'].value_counts().reset_index())\n",
    "flight_count.columns = ['IATA_CODE', 'ARRIVING FLIGHTS']\n",
    "airports = pd.merge(airports, flight_count, on='IATA_CODE')\n",
    "airports.head()"
   ]
  },
  {
   "cell_type": "markdown",
   "metadata": {},
   "source": [
    "## 4. Visualiseren op de kaart\n",
    "Exercise 4: gebruik geopandas en seaborn om de gecombineerde data te plotten op een kaart."
   ]
  },
  {
   "cell_type": "code",
   "execution_count": null,
   "metadata": {},
   "outputs": [],
   "source": []
  },
  {
   "cell_type": "code",
   "execution_count": null,
   "metadata": {},
   "outputs": [],
   "source": []
  }
 ],
 "metadata": {
  "kernelspec": {
   "display_name": "Python 3 (ipykernel)",
   "language": "python",
   "name": "python3"
  },
  "language_info": {
   "codemirror_mode": {
    "name": "ipython",
    "version": 3
   },
   "file_extension": ".py",
   "mimetype": "text/x-python",
   "name": "python",
   "nbconvert_exporter": "python",
   "pygments_lexer": "ipython3",
   "version": "3.10.4"
  }
 },
 "nbformat": 4,
 "nbformat_minor": 4
}
